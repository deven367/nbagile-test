{
 "cells": [
  {
   "cell_type": "code",
   "execution_count": null,
   "metadata": {},
   "outputs": [],
   "source": [
    "# default_exp core"
   ]
  },
  {
   "cell_type": "markdown",
   "metadata": {},
   "source": [
    "# Core\n",
    "\n",
    "> These are just some dummy functions for the `core` module"
   ]
  },
  {
   "cell_type": "code",
   "execution_count": null,
   "metadata": {},
   "outputs": [],
   "source": [
    "#hide\n",
    "from nbdev.showdoc import *"
   ]
  },
  {
   "cell_type": "code",
   "execution_count": null,
   "metadata": {},
   "outputs": [],
   "source": [
    "#export \n",
    "import numpy as np"
   ]
  },
  {
   "cell_type": "code",
   "execution_count": null,
   "metadata": {},
   "outputs": [],
   "source": [
    "#export\n",
    "def normalize(\n",
    "    data: np.ndarray, # input data\n",
    "    )->np.ndarray: # normalized data\n",
    "    \"Function normalizes the given input\"\n",
    "    return (data - np.min(data))/(np.max(data) - np.min(data))"
   ]
  },
  {
   "cell_type": "code",
   "execution_count": null,
   "metadata": {},
   "outputs": [],
   "source": [
    "#export\n",
    "def normalize2(\n",
    "    data: np.ndarray, # input data\n",
    "    )->np.ndarray: # normalized data\n",
    "    \"Function normalizes the given input\"\n",
    "    return (data - np.min(data))/(np.max(data) - np.min(data))"
   ]
  },
  {
   "cell_type": "code",
   "execution_count": null,
   "metadata": {},
   "outputs": [],
   "source": [
    "#export\n",
    "def fun(\n",
    "    x: int, # input data\n",
    "    y: int, # input data\n",
    "    z: int, # input data\n",
    "    )->int: # sum\n",
    "    \"adds number in the args\"\n",
    "    return x + y + z"
   ]
  },
  {
   "cell_type": "code",
   "execution_count": null,
   "metadata": {},
   "outputs": [],
   "source": [
    "#export\n",
    "def fun2(\n",
    "    x: int, # input data\n",
    "    y: int, # input data\n",
    "    z: int, # input data\n",
    "    )->int: # sum\n",
    "    \"adds number in the args\"\n",
    "    return x + y + z"
   ]
  },
  {
   "cell_type": "code",
   "execution_count": null,
   "metadata": {},
   "outputs": [],
   "source": [
    "#export\n",
    "def fun3(\n",
    "    x: int, # input data\n",
    "    y: int, # input data\n",
    "    z: int, # input data\n",
    "    )->int: # sum\n",
    "    \"adds number in the args\"\n",
    "    return x + y + z"
   ]
  }
 ],
 "metadata": {
  "kernelspec": {
   "display_name": "Python 3 (ipykernel)",
   "language": "python",
   "name": "python3"
  }
 },
 "nbformat": 4,
 "nbformat_minor": 2
}
